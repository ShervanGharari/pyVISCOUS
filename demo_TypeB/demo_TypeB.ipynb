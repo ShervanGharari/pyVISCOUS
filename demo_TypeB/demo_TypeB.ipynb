{
 "cells": [
  {
   "cell_type": "markdown",
   "metadata": {},
   "source": [
    "#### Load required libraries"
   ]
  },
  {
   "cell_type": "code",
   "execution_count": 1,
   "metadata": {},
   "outputs": [],
   "source": [
    "import random\n",
    "random.seed(123)\n",
    "\n",
    "import sys, os\n",
    "import numpy as np\n",
    "import pandas as pd\n",
    "from scipy.stats import multivariate_normal\n",
    "import matplotlib.pyplot as plt\n",
    "import matplotlib as mpl\n",
    "from matplotlib import gridspec\n",
    "\n",
    "sys.path.append('../')\n",
    "import functions.pyVISCOUS as vs\n"
   ]
  },
  {
   "cell_type": "markdown",
   "metadata": {},
   "source": [
    "#### Load local functions"
   ]
  },
  {
   "cell_type": "code",
   "execution_count": 2,
   "metadata": {},
   "outputs": [],
   "source": [
    "def Sobol_function(x, a):\n",
    "    ''' Sobol function\n",
    "    -------\n",
    "    x: input array, shape (nSample,nVar).\n",
    "    a: input array, shape (nSample,nVar).\n",
    "    y: output array, shape (nSample,1).'''\n",
    "    \n",
    "    subPart = np.abs(4*x-2)\n",
    "    y = np.prod((subPart+a)/(1+a), axis=1) \n",
    "\n",
    "    if len(np.shape(y)) == 1: # if shape(nSample,) -> (nSample,1)\n",
    "        y = y.reshape(-1,1) \n",
    "\n",
    "    return y\n",
    "\n",
    "def plot_gmm_mean_cov(gmm, var_name_ls, sensType, GSA_idx, ofile):\n",
    "    \n",
    "    '''Plot GMM mean and covariance estiamtes for a specific evaluated variable group.\n",
    "    -------\n",
    "    gmm:         input object. The best fitted Gaussian mixture model (GMM) used by a specific variable group.\n",
    "    var_name_ls: input list. The complete list of (x,y) variables names.\n",
    "    sensType:    input str. Type of Sensitivity index calculation. Two options: 'first', 'total'.\n",
    "    GSA_idx:     input list. List of x variable indices of a specific variable group. eg, [0], or [1], or [2].     \n",
    "    ofile:       output figure file path. '''\n",
    "\n",
    "    import matplotlib.colors as colors    \n",
    "\n",
    "    # specify GMM information\n",
    "    gmmWeights     = gmm.weights_            # shape (n_components,)\n",
    "    gmmMeans       = gmm.means_              # shape (n_components, n_variables). \n",
    "    gmmCovariances = gmm.covariances_        # (n_components, n_variables, n_variables) if covariance_type = ‘full’ (by default).    \n",
    "    gmmNComponents = gmm.n_components        # number of components\n",
    "    (n_components, n_variables) = np.shape(gmmMeans)\n",
    "\n",
    "    # define xticklabels based on variable name list (var_name_ls)    \n",
    "    if sensType == 'first':   # select elements\n",
    "        xticklabels = [var_name_ls[idx] for idx in GSA_idx] \n",
    "        xticklabels.append(var_name_ls[-1])\n",
    "    elif sensType == 'total': # delete elements \n",
    "        xticklabels = var_name_ls\n",
    "        for idx in GSA_idx:\n",
    "            xticklabels.pop(idx)\n",
    "    fs='medium'                                                                      # text fontsize\n",
    "    markers = ['o', 'v', 's', '*', '^', 'D', 'p', '>', 'h', 'H', '<', 'd', 'P', 'X'] # a list of markers for Gaussian mean plot\n",
    "    axes = []                                                                        # collect a list of axes to insert the colorbar\n",
    "\n",
    "    # create a figure\n",
    "    ncol = 3\n",
    "    nrow = 1+int(np.ceil(gmmNComponents/ncol))\n",
    "    fig = plt.figure(figsize=(3*ncol,3*nrow), constrained_layout=True)\n",
    "\n",
    "    # divide figure into grids\n",
    "    heights = [1]\n",
    "    for i in np.arange(1,nrow):\n",
    "        heights.append(1.1)\n",
    "    gs = gridspec.GridSpec(nrows=nrow, ncols=ncol, figure=fig, height_ratios=heights)\n",
    "\n",
    "    # plot Gaussian mean\n",
    "    iRow = 0            \n",
    "    ax = fig.add_subplot(gs[iRow, :])\n",
    "    for i in range(gmmNComponents):\n",
    "        ax.scatter(range(1,1+n_variables),gmmMeans[i,:],label='Cpnt '+str(i+1), alpha=0.7, marker=markers[i%len(markers)])\n",
    "\n",
    "    ax.set_xticks(range(1,1+n_variables))\n",
    "    ax.set_xticklabels(xticklabels, fontsize=fs)\n",
    "    ax.set_ylabel('Mean', fontsize=fs)\n",
    "\n",
    "    ax.tick_params(axis='x', labelsize=fs)\n",
    "    ax.tick_params(axis='y', labelsize=fs)\n",
    "    ax.legend(loc='best', ncol=3, fontsize='small',framealpha=0.5)  \n",
    "    ax.set_title('(a) Means of all Cpnts', fontsize=fs)\n",
    "\n",
    "    # plot Gaussian covariance\n",
    "    for i in range(gmmNComponents):\n",
    "        iRow      = i//ncol + 1\n",
    "        iCol      = i%ncol\n",
    "        ax        = fig.add_subplot(gs[iRow, iCol])\n",
    "\n",
    "        vmin,vmax = -1.01,1.01\n",
    "        norm      = colors.TwoSlopeNorm(vmin=vmin, vcenter=0, vmax=vmax)\n",
    "        aa        = ax.imshow(gmmCovariances[i,:,:],cmap='bwr', norm=norm)\n",
    "\n",
    "        ax.set_xticks(range(n_variables))\n",
    "        ax.set_xticklabels(xticklabels, fontsize=fs)\n",
    "\n",
    "        ax.set_yticks(range(n_variables))\n",
    "        ax.set_yticklabels(xticklabels, fontsize=fs)\n",
    "        ax.set_title('(%s) Covariance of Cpnt %d'%(chr(ord('b')+i), (i+1)), fontsize=fs)\n",
    "\n",
    "        # colorbar setup\n",
    "        axes.append(ax)\n",
    "        if (i) == (gmmNComponents-1):\n",
    "            cbar = fig.colorbar(aa, ax=axes, pad=0.0, shrink=0.5, location='bottom') \n",
    "            cbar.ax.set_title('Covariance',fontsize=fs,style='italic')\n",
    "            cbar.ax.tick_params(labelsize=fs)    \n",
    "\n",
    "    plt.savefig(ofile,dpi=150)\n",
    "    plt.show()    \n",
    "    return"
   ]
  },
  {
   "cell_type": "markdown",
   "metadata": {},
   "source": [
    "#### Specify input and output configurations"
   ]
  },
  {
   "cell_type": "code",
   "execution_count": 3,
   "metadata": {},
   "outputs": [],
   "source": [
    "rootPath  = '.'  # root path where demo data will be stored.\n",
    "outputDir = os.path.join(rootPath,'outputs')\n",
    "if not os.path.exists(outputDir):\n",
    "    os.makedirs(outputDir)\n",
    "\n",
    "nVar            = 10     # number of input x variables\n",
    "paramLowerLimit = 0      # lower limit of x\n",
    "paramUpperLimit = 1      # upper limit of x\n",
    "nSample         = 10000  # number of input data samples\n",
    "\n",
    "sampleFile      = os.path.join(outputDir,'samples_nVar%d.txt'%(nVar))\n",
    "sampleCDFFile   = os.path.join(outputDir,'samplesCDF_nVar%d.txt'%(nVar))\n",
    "sampleStdFile   = os.path.join(outputDir,'samplesStd_nVar%d.txt'%(nVar))"
   ]
  },
  {
   "cell_type": "markdown",
   "metadata": {},
   "source": [
    "### Part 1. Generate & standradize data"
   ]
  },
  {
   "cell_type": "markdown",
   "metadata": {},
   "source": [
    "#### Generate sample data"
   ]
  },
  {
   "cell_type": "code",
   "execution_count": 4,
   "metadata": {},
   "outputs": [
    {
     "name": "stdout",
     "output_type": "stream",
     "text": [
      "Samples data: ./outputs/samples_nVar10.txt\n"
     ]
    }
   ],
   "source": [
    "# Specify sample file.\n",
    "if os.path.exists(sampleFile): # If exist, remove samples.\n",
    "    os.remove(sampleFile)\n",
    "\n",
    "# Generate input variable samples (x) \n",
    "x = np.zeros((nSample,nVar))\n",
    "a = np.zeros((nSample,nVar))\n",
    "a[:, :] = 6.52              # type B function\n",
    "for iVar in range(nVar):\n",
    "    x[:,iVar] = np.random.uniform(low=paramLowerLimit, high=paramUpperLimit, size=nSample)               \n",
    "\n",
    "# Generate the corresponding responses (y).\n",
    "y = Sobol_function(x, a)\n",
    "\n",
    "# Save sample data.\n",
    "samples    = np.concatenate((x,y), axis=1)    \n",
    "header_str = ','.join(['X'+str(iVar+1) for iVar in range(nVar)])+',Y'\n",
    "np.savetxt(sampleFile, samples, delimiter=',', header=header_str)\n",
    "print('Samples data: %s'%(sampleFile))\n"
   ]
  },
  {
   "cell_type": "markdown",
   "metadata": {},
   "source": [
    "#### Standardize sample data "
   ]
  },
  {
   "cell_type": "code",
   "execution_count": 5,
   "metadata": {},
   "outputs": [
    {
     "name": "stdout",
     "output_type": "stream",
     "text": [
      "Standardizing ...\n",
      "CDF data: ./outputs/samples_nVar10.txt\n",
      "Standardized data: ./outputs/samples_nVar10.txt\n"
     ]
    }
   ],
   "source": [
    "# Read sample data (x,y).\n",
    "data = np.loadtxt(sampleFile, skiprows=0, delimiter=',')\n",
    "x    = data[:,0:-1]\n",
    "y    = data[:,-1].reshape(-1,1)    \n",
    "\n",
    "# Standardize x.\n",
    "print('Standardizing ...')\n",
    "[nSample, nVar] = np.shape(x)\n",
    "cdfx            = np.zeros_like(x)          # CDF of x.\n",
    "zx              = np.zeros_like(x)         # standardized data zx.  \n",
    "for iVar in range(nVar):\n",
    "    cdfx[:,iVar], zx[:,iVar] = vs.standardize_data(x[:,iVar])         \n",
    "\n",
    "# Standardize y.\n",
    "cdfy, zy   = vs.standardize_data(y)\n",
    "\n",
    "# Save CDF.\n",
    "cdf_tmp    = np.concatenate((cdfx,cdfy), axis=1)    \n",
    "header_str = ','.join(['X_CDF'+str(iVar+1) for iVar in range(nVar)])+',Y_CDF'\n",
    "np.savetxt(sampleCDFFile,cdf_tmp,delimiter=',',header=header_str)\n",
    "print('CDF data: %s'%(sampleFile))\n",
    "\n",
    "# Save standardized data.\n",
    "std_tmp    = np.concatenate((zx,zy), axis=1)    \n",
    "header_str = ','.join(['X_STD'+str(iVar+1) for iVar in range(nVar)])+',Y_STD'\n",
    "np.savetxt(sampleStdFile,std_tmp,delimiter=',',header=header_str)\n",
    "print('Standardized data: %s'%(sampleFile))"
   ]
  },
  {
   "cell_type": "markdown",
   "metadata": {},
   "source": [
    "### Part 2. Calculate first-order sensitivity indices using VISCOUS "
   ]
  },
  {
   "cell_type": "code",
   "execution_count": 6,
   "metadata": {},
   "outputs": [
    {
     "name": "stdout",
     "output_type": "stream",
     "text": [
      "Calculating first-order sensitivity indices...\n",
      "--- variable group [0] --- \n",
      "--- fitting GMM...\n",
      "--- calculating sensitivity index...\n",
      "--- Sensitivity index = 0.081854\n",
      "\n"
     ]
    }
   ],
   "source": [
    "# Load raw data\n",
    "data = np.loadtxt(sampleFile, skiprows=0, delimiter=',')\n",
    "x    = data[:,0:-1]\n",
    "y    = data[:,-1].reshape(-1,1)    \n",
    "\n",
    "# Load standardized data\n",
    "data = np.loadtxt(sampleStdFile, skiprows=0, delimiter=',')\n",
    "zx   = data[:,0:-1]\n",
    "zy   = data[:,-1].reshape(-1,1)    \n",
    "\n",
    "# Specify VISCOUS configurations\n",
    "sensType     = 'first'     # two options for sensitivity index calculation: 'first' or 'total' \n",
    "\n",
    "GSAIndex     = [[0]]       # Index 0 refers to the 1st input variable x1, meaning we aim to calculate the sensitivity index of x1.                     \n",
    "                           # use vs.define_GSA_variable_index(nVar) if you want to compute each x variable' sensitivity indcies.\n",
    "                           # use [[0],[1]] if you want to compute the sensitivity indices of x1 and x2.\n",
    "    \n",
    "N1, N2       = 1000, 1000  # Monte Carlo sample size. N1 is for outer loop, N2 is for inner loop.\n",
    "\n",
    "n_components = 'optimal'   # The number of components used in GMM inference. An integer or string \"optimal\". \n",
    "                           # If n_components is an integer, it will be used as the fixed user-provided number of components.\n",
    "                           # If n_components is \"optimal\", it will look for an optimal number of components in the range of [1, n_xvariables+20].\n",
    "\n",
    "# Calculate sensitivity indeces using VISCOUS\n",
    "sensIndex_first, fitted_gmm_ls_first = vs.VISCOUS(x, y, zx, zy, sensType, GSAIndex, N1, N2, n_components)  \n"
   ]
  },
  {
   "cell_type": "markdown",
   "metadata": {},
   "source": [
    "#### Look at sensitivity indices and Gaussian mixture model (GMM) results"
   ]
  },
  {
   "cell_type": "code",
   "execution_count": 7,
   "metadata": {},
   "outputs": [
    {
     "name": "stdout",
     "output_type": "stream",
     "text": [
      "S1 = 0.0819\n"
     ]
    }
   ],
   "source": [
    "# Look at sensitivity indices \n",
    "for iGSA in range(len(GSAIndex)):\n",
    "    if len(GSAIndex[iGSA])==1:\n",
    "        print('S%d = %.4f'%(GSAIndex[iGSA][0]+1, sensIndex_first[iGSA]))\n",
    "    else:\n",
    "        var_label = ''\n",
    "        for ind in GSAIndex[iGSA]:\n",
    "            var_label = var_label+'%d,'%(ind+1)\n",
    "        var_label = var_label.rstrip(',')\n",
    "        print('S%s = %.4f'%(var_label, sensIndex_first[iGSA]))"
   ]
  },
  {
   "cell_type": "code",
   "execution_count": 8,
   "metadata": {},
   "outputs": [
    {
     "name": "stdout",
     "output_type": "stream",
     "text": [
      "gmmNComponents =  3\n"
     ]
    }
   ],
   "source": [
    "# Look at best fitted GMM details of a specific variable group (eg, the 1st)\n",
    "gmm = fitted_gmm_ls_first[0]\n",
    "gmmWeights     = gmm.weights_            # shape (n_components,)\n",
    "gmmMeans       = gmm.means_              # shape (n_components, n_variables). \n",
    "gmmCovariances = gmm.covariances_        # (n_components, n_variables, n_variables) if covariance_type = ‘full’ (by default).    \n",
    "gmmNComponents = gmm.n_components        # number of components\n",
    "print('gmmNComponents = ',gmmNComponents)"
   ]
  },
  {
   "cell_type": "code",
   "execution_count": 9,
   "metadata": {},
   "outputs": [
    {
     "data": {
      "image/png": "[encoded data removed]",
      "text/plain": [
       "<Figure size 648x432 with 5 Axes>"
      ]
     },
     "metadata": {
      "needs_background": "light"
     },
     "output_type": "display_data"
    }
   ],
   "source": [
    "# Plot GMM used by a specific variable group (eg, the 1st)\n",
    "\n",
    "var_name_ls = [r'${z_{x_{%d}}}$'%(i) for i in np.arange(1,nVar+1)]       # a list of all x variable names\n",
    "var_name_ls.append(r'${z_{x_y}}$')                                       # append y variable name\n",
    "ofile = os.path.join(outputDir,'gmm_mean_cov_x1_first.png')              # output figure file path\n",
    "\n",
    "plot_gmm_mean_cov(fitted_gmm_ls_first[0], var_name_ls, sensType, GSAIndex[0], ofile)"
   ]
  },
  {
   "cell_type": "markdown",
   "metadata": {},
   "source": [
    "### Part 3. Calculate total-order sensitivity indices using VISCOUS "
   ]
  },
  {
   "cell_type": "code",
   "execution_count": 10,
   "metadata": {},
   "outputs": [
    {
     "name": "stdout",
     "output_type": "stream",
     "text": [
      "Calculating total-effect sensitivity indices...\n",
      "--- variable group [0] --- \n",
      "--- fitting GMM...\n",
      "--- calculating sensitivity index...\n",
      "--- Sensitivity index = 0.922856\n",
      "\n"
     ]
    }
   ],
   "source": [
    "# Load raw data\n",
    "data = np.loadtxt(sampleFile, skiprows=0, delimiter=',')\n",
    "x    = data[:,0:-1]\n",
    "y    = data[:,-1].reshape(-1,1)    \n",
    "\n",
    "# Load standardized data\n",
    "data = np.loadtxt(sampleStdFile, skiprows=0, delimiter=',')\n",
    "zx   = data[:,0:-1]\n",
    "zy   = data[:,-1].reshape(-1,1)    \n",
    "\n",
    "# Specify VISCOUS configurations\n",
    "sensType     = 'total'      # two options for sensitivity index calculation: 'first' or 'total' \n",
    "\n",
    "GSAIndex     = [[0]]        # Index 0 refers to the 1st input variable x1, meaning we aim to calculate the sensitivity index of x1.                     \n",
    "                            # use vs.define_GSA_variable_index(nVar) if you want to compute each x variable' sensitivity indcies.\n",
    "                            # use [[0],[1]] if you want to compute the sensitivity indices of x1 and x2.\n",
    "        \n",
    "N1, N2       = 1000, 1000   # Monte Carlo sample size. N1 is for outer loop, N2 is for inner loop.\n",
    "\n",
    "n_components = 'optimal'    # The number of components used in GMM inference. An integer or string \"optimal\". \n",
    "                            # If n_components is an integer, it will be used as the fixed user-provided number of components.\n",
    "                            # If n_components is \"optimal\", it will look for an optimal number of components in the range of [1, n_xvariables+20].\n",
    "\n",
    "\n",
    "# Calculate sensitivity indeces using VISCOUS\n",
    "sensIndex_total, fitted_gmm_ls_total = vs.VISCOUS(x, y, zx, zy, sensType, GSAIndex, N1, N2, n_components)  "
   ]
  },
  {
   "cell_type": "markdown",
   "metadata": {},
   "source": [
    "#### Look at sensitivity indices and Gaussian mixture model (GMM) results"
   ]
  },
  {
   "cell_type": "code",
   "execution_count": 11,
   "metadata": {},
   "outputs": [
    {
     "name": "stdout",
     "output_type": "stream",
     "text": [
      "ST1 = 0.9229\n"
     ]
    }
   ],
   "source": [
    "# Look at sensitivity indices \n",
    "for iGSA in range(len(GSAIndex)):\n",
    "    if len(GSAIndex[iGSA])==1:\n",
    "        print('ST%d = %.4f'%(GSAIndex[iGSA][0]+1, sensIndex_total[iGSA]))\n",
    "    else:\n",
    "        var_label = ''\n",
    "        for ind in GSAIndex[iGSA]:\n",
    "            var_label = var_label+'%d,'%(ind+1)\n",
    "        var_label = var_label.rstrip(',')\n",
    "        print('ST%s = %.4f'%(var_label, sensIndex_total[iGSA]))"
   ]
  },
  {
   "cell_type": "code",
   "execution_count": 12,
   "metadata": {},
   "outputs": [
    {
     "name": "stdout",
     "output_type": "stream",
     "text": [
      "gmmNComponents =  3\n"
     ]
    }
   ],
   "source": [
    "# Look at the best fitted GMM details of a specific variable group (eg, the 1st)\n",
    "gmm = fitted_gmm_ls_first[0]\n",
    "gmmWeights     = gmm.weights_            # shape (n_components,)\n",
    "gmmMeans       = gmm.means_              # shape (n_components, n_variables). \n",
    "gmmCovariances = gmm.covariances_        # (n_components, n_variables, n_variables) if covariance_type = ‘full’ (by default).    \n",
    "gmmNComponents = gmm.n_components        # number of components\n",
    "print('gmmNComponents = ',gmmNComponents)"
   ]
  },
  {
   "cell_type": "code",
   "execution_count": 13,
   "metadata": {},
   "outputs": [
    {
     "data": {
      "image/png": "[encoded data removed]",
      "text/plain": [
       "<Figure size 648x432 with 5 Axes>"
      ]
     },
     "metadata": {
      "needs_background": "light"
     },
     "output_type": "display_data"
    }
   ],
   "source": [
    "# Plot GMM used by a specific variable group (eg, the 1st)\n",
    "\n",
    "var_name_ls = [r'${z_{x_{%d}}}$'%(i) for i in np.arange(1,nVar+1)]       # a list of all x variable names\n",
    "var_name_ls.append(r'${z_{x_y}}$')                                       # append y variable name\n",
    "ofile = os.path.join(outputDir,'gmm_mean_cov_x1_total.png')              # output figure file path\n",
    "\n",
    "plot_gmm_mean_cov(fitted_gmm_ls_total[0], var_name_ls, sensType, GSAIndex[0], ofile)"
   ]
  },
  {
   "cell_type": "code",
   "execution_count": null,
   "metadata": {},
   "outputs": [],
   "source": []
  }
 ],
 "metadata": {
  "kernelspec": {
   "display_name": "summa-env",
   "language": "python",
   "name": "summa-env"
  },
  "language_info": {
   "codemirror_mode": {
    "name": "ipython",
    "version": 3
   },
   "file_extension": ".py",
   "mimetype": "text/x-python",
   "name": "python",
   "nbconvert_exporter": "python",
   "pygments_lexer": "ipython3",
   "version": "3.9.6"
  }
 },
 "nbformat": 4,
 "nbformat_minor": 5
}
